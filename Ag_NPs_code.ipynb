{
 "cells": [
  {
   "cell_type": "code",
   "execution_count": 7,
   "metadata": {
    "_cell_guid": "b1076dfc-b9ad-4769-8c92-a6c4dae69d19",
    "_uuid": "8f2839f25d086af736a60e9eeb907d3b93b6e0e5"
   },
   "outputs": [],
   "source": [
    "import numpy as np \n",
    "import pandas as pd \n",
    "import matplotlib.pyplot as plt\n",
    "import seaborn as sns\n",
    "\n",
    "SilverNPs = pd.read_csv(\"SilverNPs.csv\")"
   ]
  },
  {
   "cell_type": "code",
   "execution_count": 8,
   "metadata": {},
   "outputs": [
    {
     "data": {
      "text/html": [
       "<div>\n",
       "<style scoped>\n",
       "    .dataframe tbody tr th:only-of-type {\n",
       "        vertical-align: middle;\n",
       "    }\n",
       "\n",
       "    .dataframe tbody tr th {\n",
       "        vertical-align: top;\n",
       "    }\n",
       "\n",
       "    .dataframe thead th {\n",
       "        text-align: right;\n",
       "    }\n",
       "</style>\n",
       "<table border=\"1\" class=\"dataframe\">\n",
       "  <thead>\n",
       "    <tr style=\"text-align: right;\">\n",
       "      <th></th>\n",
       "      <th>ID</th>\n",
       "      <th>N_Atoms</th>\n",
       "      <th>N_Bulk</th>\n",
       "      <th>N_Surface</th>\n",
       "      <th>R_min</th>\n",
       "      <th>R_max</th>\n",
       "      <th>R_diff</th>\n",
       "      <th>R_avg</th>\n",
       "      <th>R_std</th>\n",
       "      <th>R_skew</th>\n",
       "      <th>...</th>\n",
       "      <th>T17</th>\n",
       "      <th>T18</th>\n",
       "      <th>T19</th>\n",
       "      <th>T20</th>\n",
       "      <th>T&gt;20</th>\n",
       "      <th>Formation_E</th>\n",
       "      <th>EF</th>\n",
       "      <th>IP</th>\n",
       "      <th>EA</th>\n",
       "      <th>EG</th>\n",
       "    </tr>\n",
       "  </thead>\n",
       "  <tbody>\n",
       "    <tr>\n",
       "      <td>count</td>\n",
       "      <td>425.000000</td>\n",
       "      <td>425.000000</td>\n",
       "      <td>425.000000</td>\n",
       "      <td>425.000000</td>\n",
       "      <td>425.000000</td>\n",
       "      <td>425.000000</td>\n",
       "      <td>425.000000</td>\n",
       "      <td>425.000000</td>\n",
       "      <td>425.000000</td>\n",
       "      <td>425.000000</td>\n",
       "      <td>...</td>\n",
       "      <td>425.0</td>\n",
       "      <td>425.0</td>\n",
       "      <td>425.0</td>\n",
       "      <td>425.0</td>\n",
       "      <td>425.0</td>\n",
       "      <td>425.000000</td>\n",
       "      <td>425.000000</td>\n",
       "      <td>425.000000</td>\n",
       "      <td>425.000000</td>\n",
       "      <td>425.000000</td>\n",
       "    </tr>\n",
       "    <tr>\n",
       "      <td>mean</td>\n",
       "      <td>213.000000</td>\n",
       "      <td>1239.315294</td>\n",
       "      <td>762.503529</td>\n",
       "      <td>476.811765</td>\n",
       "      <td>13.141773</td>\n",
       "      <td>18.830056</td>\n",
       "      <td>5.688284</td>\n",
       "      <td>15.452304</td>\n",
       "      <td>1.488730</td>\n",
       "      <td>0.340574</td>\n",
       "      <td>...</td>\n",
       "      <td>0.0</td>\n",
       "      <td>0.0</td>\n",
       "      <td>0.0</td>\n",
       "      <td>0.0</td>\n",
       "      <td>0.0</td>\n",
       "      <td>0.149397</td>\n",
       "      <td>-3.849168</td>\n",
       "      <td>4.324642</td>\n",
       "      <td>3.376054</td>\n",
       "      <td>0.948588</td>\n",
       "    </tr>\n",
       "    <tr>\n",
       "      <td>std</td>\n",
       "      <td>122.831185</td>\n",
       "      <td>801.498452</td>\n",
       "      <td>561.252038</td>\n",
       "      <td>246.148525</td>\n",
       "      <td>3.995470</td>\n",
       "      <td>6.144755</td>\n",
       "      <td>3.444664</td>\n",
       "      <td>4.621321</td>\n",
       "      <td>0.899127</td>\n",
       "      <td>0.438593</td>\n",
       "      <td>...</td>\n",
       "      <td>0.0</td>\n",
       "      <td>0.0</td>\n",
       "      <td>0.0</td>\n",
       "      <td>0.0</td>\n",
       "      <td>0.0</td>\n",
       "      <td>0.127103</td>\n",
       "      <td>0.115435</td>\n",
       "      <td>0.188174</td>\n",
       "      <td>0.258104</td>\n",
       "      <td>0.382663</td>\n",
       "    </tr>\n",
       "    <tr>\n",
       "      <td>min</td>\n",
       "      <td>1.000000</td>\n",
       "      <td>13.000000</td>\n",
       "      <td>1.000000</td>\n",
       "      <td>12.000000</td>\n",
       "      <td>2.630300</td>\n",
       "      <td>2.833600</td>\n",
       "      <td>0.203400</td>\n",
       "      <td>2.664400</td>\n",
       "      <td>0.079100</td>\n",
       "      <td>-1.048700</td>\n",
       "      <td>...</td>\n",
       "      <td>0.0</td>\n",
       "      <td>0.0</td>\n",
       "      <td>0.0</td>\n",
       "      <td>0.0</td>\n",
       "      <td>0.0</td>\n",
       "      <td>0.028319</td>\n",
       "      <td>-4.094000</td>\n",
       "      <td>4.010600</td>\n",
       "      <td>2.129600</td>\n",
       "      <td>0.535500</td>\n",
       "    </tr>\n",
       "    <tr>\n",
       "      <td>25%</td>\n",
       "      <td>107.000000</td>\n",
       "      <td>550.000000</td>\n",
       "      <td>268.000000</td>\n",
       "      <td>272.000000</td>\n",
       "      <td>10.440400</td>\n",
       "      <td>14.639300</td>\n",
       "      <td>3.508800</td>\n",
       "      <td>12.243700</td>\n",
       "      <td>0.892500</td>\n",
       "      <td>0.074800</td>\n",
       "      <td>...</td>\n",
       "      <td>0.0</td>\n",
       "      <td>0.0</td>\n",
       "      <td>0.0</td>\n",
       "      <td>0.0</td>\n",
       "      <td>0.0</td>\n",
       "      <td>0.067486</td>\n",
       "      <td>-3.950900</td>\n",
       "      <td>4.213000</td>\n",
       "      <td>3.251600</td>\n",
       "      <td>0.694000</td>\n",
       "    </tr>\n",
       "    <tr>\n",
       "      <td>50%</td>\n",
       "      <td>213.000000</td>\n",
       "      <td>1133.000000</td>\n",
       "      <td>675.000000</td>\n",
       "      <td>472.000000</td>\n",
       "      <td>13.476300</td>\n",
       "      <td>19.221600</td>\n",
       "      <td>4.785500</td>\n",
       "      <td>16.005000</td>\n",
       "      <td>1.143600</td>\n",
       "      <td>0.331300</td>\n",
       "      <td>...</td>\n",
       "      <td>0.0</td>\n",
       "      <td>0.0</td>\n",
       "      <td>0.0</td>\n",
       "      <td>0.0</td>\n",
       "      <td>0.0</td>\n",
       "      <td>0.107963</td>\n",
       "      <td>-3.848800</td>\n",
       "      <td>4.306000</td>\n",
       "      <td>3.430600</td>\n",
       "      <td>0.828000</td>\n",
       "    </tr>\n",
       "    <tr>\n",
       "      <td>75%</td>\n",
       "      <td>319.000000</td>\n",
       "      <td>1851.000000</td>\n",
       "      <td>1158.000000</td>\n",
       "      <td>662.000000</td>\n",
       "      <td>16.027700</td>\n",
       "      <td>23.053000</td>\n",
       "      <td>7.041700</td>\n",
       "      <td>19.209000</td>\n",
       "      <td>1.870000</td>\n",
       "      <td>0.643400</td>\n",
       "      <td>...</td>\n",
       "      <td>0.0</td>\n",
       "      <td>0.0</td>\n",
       "      <td>0.0</td>\n",
       "      <td>0.0</td>\n",
       "      <td>0.0</td>\n",
       "      <td>0.181273</td>\n",
       "      <td>-3.763400</td>\n",
       "      <td>4.386200</td>\n",
       "      <td>3.569200</td>\n",
       "      <td>1.059100</td>\n",
       "    </tr>\n",
       "    <tr>\n",
       "      <td>max</td>\n",
       "      <td>425.000000</td>\n",
       "      <td>2947.000000</td>\n",
       "      <td>2057.000000</td>\n",
       "      <td>1154.000000</td>\n",
       "      <td>21.035100</td>\n",
       "      <td>42.930100</td>\n",
       "      <td>28.300100</td>\n",
       "      <td>24.438900</td>\n",
       "      <td>6.212700</td>\n",
       "      <td>2.055200</td>\n",
       "      <td>...</td>\n",
       "      <td>0.0</td>\n",
       "      <td>0.0</td>\n",
       "      <td>0.0</td>\n",
       "      <td>0.0</td>\n",
       "      <td>0.0</td>\n",
       "      <td>1.074750</td>\n",
       "      <td>-3.403600</td>\n",
       "      <td>5.811900</td>\n",
       "      <td>3.748100</td>\n",
       "      <td>3.013800</td>\n",
       "    </tr>\n",
       "  </tbody>\n",
       "</table>\n",
       "<p>8 rows × 89 columns</p>\n",
       "</div>"
      ],
      "text/plain": [
       "               ID      N_Atoms       N_Bulk    N_Surface       R_min  \\\n",
       "count  425.000000   425.000000   425.000000   425.000000  425.000000   \n",
       "mean   213.000000  1239.315294   762.503529   476.811765   13.141773   \n",
       "std    122.831185   801.498452   561.252038   246.148525    3.995470   \n",
       "min      1.000000    13.000000     1.000000    12.000000    2.630300   \n",
       "25%    107.000000   550.000000   268.000000   272.000000   10.440400   \n",
       "50%    213.000000  1133.000000   675.000000   472.000000   13.476300   \n",
       "75%    319.000000  1851.000000  1158.000000   662.000000   16.027700   \n",
       "max    425.000000  2947.000000  2057.000000  1154.000000   21.035100   \n",
       "\n",
       "            R_max      R_diff       R_avg       R_std      R_skew  ...    T17  \\\n",
       "count  425.000000  425.000000  425.000000  425.000000  425.000000  ...  425.0   \n",
       "mean    18.830056    5.688284   15.452304    1.488730    0.340574  ...    0.0   \n",
       "std      6.144755    3.444664    4.621321    0.899127    0.438593  ...    0.0   \n",
       "min      2.833600    0.203400    2.664400    0.079100   -1.048700  ...    0.0   \n",
       "25%     14.639300    3.508800   12.243700    0.892500    0.074800  ...    0.0   \n",
       "50%     19.221600    4.785500   16.005000    1.143600    0.331300  ...    0.0   \n",
       "75%     23.053000    7.041700   19.209000    1.870000    0.643400  ...    0.0   \n",
       "max     42.930100   28.300100   24.438900    6.212700    2.055200  ...    0.0   \n",
       "\n",
       "         T18    T19    T20   T>20  Formation_E          EF          IP  \\\n",
       "count  425.0  425.0  425.0  425.0   425.000000  425.000000  425.000000   \n",
       "mean     0.0    0.0    0.0    0.0     0.149397   -3.849168    4.324642   \n",
       "std      0.0    0.0    0.0    0.0     0.127103    0.115435    0.188174   \n",
       "min      0.0    0.0    0.0    0.0     0.028319   -4.094000    4.010600   \n",
       "25%      0.0    0.0    0.0    0.0     0.067486   -3.950900    4.213000   \n",
       "50%      0.0    0.0    0.0    0.0     0.107963   -3.848800    4.306000   \n",
       "75%      0.0    0.0    0.0    0.0     0.181273   -3.763400    4.386200   \n",
       "max      0.0    0.0    0.0    0.0     1.074750   -3.403600    5.811900   \n",
       "\n",
       "               EA          EG  \n",
       "count  425.000000  425.000000  \n",
       "mean     3.376054    0.948588  \n",
       "std      0.258104    0.382663  \n",
       "min      2.129600    0.535500  \n",
       "25%      3.251600    0.694000  \n",
       "50%      3.430600    0.828000  \n",
       "75%      3.569200    1.059100  \n",
       "max      3.748100    3.013800  \n",
       "\n",
       "[8 rows x 89 columns]"
      ]
     },
     "execution_count": 8,
     "metadata": {},
     "output_type": "execute_result"
    }
   ],
   "source": [
    "SilverNPs.describe()"
   ]
  },
  {
   "cell_type": "markdown",
   "metadata": {},
   "source": [
    "There are columns filled with zero values. They are not useful for the model, so they are dropped out:"
   ]
  },
  {
   "cell_type": "code",
   "execution_count": 9,
   "metadata": {},
   "outputs": [],
   "source": [
    "df=SilverNPs.loc[:, (SilverNPs != 0).any(axis=0)]"
   ]
  },
  {
   "cell_type": "code",
   "execution_count": 10,
   "metadata": {},
   "outputs": [
    {
     "data": {
      "text/html": [
       "<div>\n",
       "<style scoped>\n",
       "    .dataframe tbody tr th:only-of-type {\n",
       "        vertical-align: middle;\n",
       "    }\n",
       "\n",
       "    .dataframe tbody tr th {\n",
       "        vertical-align: top;\n",
       "    }\n",
       "\n",
       "    .dataframe thead th {\n",
       "        text-align: right;\n",
       "    }\n",
       "</style>\n",
       "<table border=\"1\" class=\"dataframe\">\n",
       "  <thead>\n",
       "    <tr style=\"text-align: right;\">\n",
       "      <th></th>\n",
       "      <th>ID</th>\n",
       "      <th>N_Atoms</th>\n",
       "      <th>N_Bulk</th>\n",
       "      <th>N_Surface</th>\n",
       "      <th>R_min</th>\n",
       "      <th>R_max</th>\n",
       "      <th>R_diff</th>\n",
       "      <th>R_avg</th>\n",
       "      <th>R_std</th>\n",
       "      <th>R_skew</th>\n",
       "      <th>...</th>\n",
       "      <th>T10</th>\n",
       "      <th>T11</th>\n",
       "      <th>T12</th>\n",
       "      <th>T13</th>\n",
       "      <th>T14</th>\n",
       "      <th>Formation_E</th>\n",
       "      <th>EF</th>\n",
       "      <th>IP</th>\n",
       "      <th>EA</th>\n",
       "      <th>EG</th>\n",
       "    </tr>\n",
       "  </thead>\n",
       "  <tbody>\n",
       "    <tr>\n",
       "      <td>count</td>\n",
       "      <td>425.000000</td>\n",
       "      <td>425.000000</td>\n",
       "      <td>425.000000</td>\n",
       "      <td>425.000000</td>\n",
       "      <td>425.000000</td>\n",
       "      <td>425.000000</td>\n",
       "      <td>425.000000</td>\n",
       "      <td>425.000000</td>\n",
       "      <td>425.000000</td>\n",
       "      <td>425.000000</td>\n",
       "      <td>...</td>\n",
       "      <td>425.000000</td>\n",
       "      <td>425.000000</td>\n",
       "      <td>425.000000</td>\n",
       "      <td>425.000000</td>\n",
       "      <td>425.000000</td>\n",
       "      <td>425.000000</td>\n",
       "      <td>425.000000</td>\n",
       "      <td>425.000000</td>\n",
       "      <td>425.000000</td>\n",
       "      <td>425.000000</td>\n",
       "    </tr>\n",
       "    <tr>\n",
       "      <td>mean</td>\n",
       "      <td>213.000000</td>\n",
       "      <td>1239.315294</td>\n",
       "      <td>762.503529</td>\n",
       "      <td>476.811765</td>\n",
       "      <td>13.141773</td>\n",
       "      <td>18.830056</td>\n",
       "      <td>5.688284</td>\n",
       "      <td>15.452304</td>\n",
       "      <td>1.488730</td>\n",
       "      <td>0.340574</td>\n",
       "      <td>...</td>\n",
       "      <td>24.522353</td>\n",
       "      <td>46.383529</td>\n",
       "      <td>718.207059</td>\n",
       "      <td>2.167059</td>\n",
       "      <td>0.004706</td>\n",
       "      <td>0.149397</td>\n",
       "      <td>-3.849168</td>\n",
       "      <td>4.324642</td>\n",
       "      <td>3.376054</td>\n",
       "      <td>0.948588</td>\n",
       "    </tr>\n",
       "    <tr>\n",
       "      <td>std</td>\n",
       "      <td>122.831185</td>\n",
       "      <td>801.498452</td>\n",
       "      <td>561.252038</td>\n",
       "      <td>246.148525</td>\n",
       "      <td>3.995470</td>\n",
       "      <td>6.144755</td>\n",
       "      <td>3.444664</td>\n",
       "      <td>4.621321</td>\n",
       "      <td>0.899127</td>\n",
       "      <td>0.438593</td>\n",
       "      <td>...</td>\n",
       "      <td>28.771876</td>\n",
       "      <td>74.139728</td>\n",
       "      <td>543.094939</td>\n",
       "      <td>8.564012</td>\n",
       "      <td>0.097014</td>\n",
       "      <td>0.127103</td>\n",
       "      <td>0.115435</td>\n",
       "      <td>0.188174</td>\n",
       "      <td>0.258104</td>\n",
       "      <td>0.382663</td>\n",
       "    </tr>\n",
       "    <tr>\n",
       "      <td>min</td>\n",
       "      <td>1.000000</td>\n",
       "      <td>13.000000</td>\n",
       "      <td>1.000000</td>\n",
       "      <td>12.000000</td>\n",
       "      <td>2.630300</td>\n",
       "      <td>2.833600</td>\n",
       "      <td>0.203400</td>\n",
       "      <td>2.664400</td>\n",
       "      <td>0.079100</td>\n",
       "      <td>-1.048700</td>\n",
       "      <td>...</td>\n",
       "      <td>0.000000</td>\n",
       "      <td>0.000000</td>\n",
       "      <td>0.000000</td>\n",
       "      <td>0.000000</td>\n",
       "      <td>0.000000</td>\n",
       "      <td>0.028319</td>\n",
       "      <td>-4.094000</td>\n",
       "      <td>4.010600</td>\n",
       "      <td>2.129600</td>\n",
       "      <td>0.535500</td>\n",
       "    </tr>\n",
       "    <tr>\n",
       "      <td>25%</td>\n",
       "      <td>107.000000</td>\n",
       "      <td>550.000000</td>\n",
       "      <td>268.000000</td>\n",
       "      <td>272.000000</td>\n",
       "      <td>10.440400</td>\n",
       "      <td>14.639300</td>\n",
       "      <td>3.508800</td>\n",
       "      <td>12.243700</td>\n",
       "      <td>0.892500</td>\n",
       "      <td>0.074800</td>\n",
       "      <td>...</td>\n",
       "      <td>0.000000</td>\n",
       "      <td>0.000000</td>\n",
       "      <td>245.000000</td>\n",
       "      <td>0.000000</td>\n",
       "      <td>0.000000</td>\n",
       "      <td>0.067486</td>\n",
       "      <td>-3.950900</td>\n",
       "      <td>4.213000</td>\n",
       "      <td>3.251600</td>\n",
       "      <td>0.694000</td>\n",
       "    </tr>\n",
       "    <tr>\n",
       "      <td>50%</td>\n",
       "      <td>213.000000</td>\n",
       "      <td>1133.000000</td>\n",
       "      <td>675.000000</td>\n",
       "      <td>472.000000</td>\n",
       "      <td>13.476300</td>\n",
       "      <td>19.221600</td>\n",
       "      <td>4.785500</td>\n",
       "      <td>16.005000</td>\n",
       "      <td>1.143600</td>\n",
       "      <td>0.331300</td>\n",
       "      <td>...</td>\n",
       "      <td>24.000000</td>\n",
       "      <td>2.000000</td>\n",
       "      <td>616.000000</td>\n",
       "      <td>0.000000</td>\n",
       "      <td>0.000000</td>\n",
       "      <td>0.107963</td>\n",
       "      <td>-3.848800</td>\n",
       "      <td>4.306000</td>\n",
       "      <td>3.430600</td>\n",
       "      <td>0.828000</td>\n",
       "    </tr>\n",
       "    <tr>\n",
       "      <td>75%</td>\n",
       "      <td>319.000000</td>\n",
       "      <td>1851.000000</td>\n",
       "      <td>1158.000000</td>\n",
       "      <td>662.000000</td>\n",
       "      <td>16.027700</td>\n",
       "      <td>23.053000</td>\n",
       "      <td>7.041700</td>\n",
       "      <td>19.209000</td>\n",
       "      <td>1.870000</td>\n",
       "      <td>0.643400</td>\n",
       "      <td>...</td>\n",
       "      <td>30.000000</td>\n",
       "      <td>72.000000</td>\n",
       "      <td>1144.000000</td>\n",
       "      <td>0.000000</td>\n",
       "      <td>0.000000</td>\n",
       "      <td>0.181273</td>\n",
       "      <td>-3.763400</td>\n",
       "      <td>4.386200</td>\n",
       "      <td>3.569200</td>\n",
       "      <td>1.059100</td>\n",
       "    </tr>\n",
       "    <tr>\n",
       "      <td>max</td>\n",
       "      <td>425.000000</td>\n",
       "      <td>2947.000000</td>\n",
       "      <td>2057.000000</td>\n",
       "      <td>1154.000000</td>\n",
       "      <td>21.035100</td>\n",
       "      <td>42.930100</td>\n",
       "      <td>28.300100</td>\n",
       "      <td>24.438900</td>\n",
       "      <td>6.212700</td>\n",
       "      <td>2.055200</td>\n",
       "      <td>...</td>\n",
       "      <td>216.000000</td>\n",
       "      <td>384.000000</td>\n",
       "      <td>2003.000000</td>\n",
       "      <td>87.000000</td>\n",
       "      <td>2.000000</td>\n",
       "      <td>1.074750</td>\n",
       "      <td>-3.403600</td>\n",
       "      <td>5.811900</td>\n",
       "      <td>3.748100</td>\n",
       "      <td>3.013800</td>\n",
       "    </tr>\n",
       "  </tbody>\n",
       "</table>\n",
       "<p>8 rows × 69 columns</p>\n",
       "</div>"
      ],
      "text/plain": [
       "               ID      N_Atoms       N_Bulk    N_Surface       R_min  \\\n",
       "count  425.000000   425.000000   425.000000   425.000000  425.000000   \n",
       "mean   213.000000  1239.315294   762.503529   476.811765   13.141773   \n",
       "std    122.831185   801.498452   561.252038   246.148525    3.995470   \n",
       "min      1.000000    13.000000     1.000000    12.000000    2.630300   \n",
       "25%    107.000000   550.000000   268.000000   272.000000   10.440400   \n",
       "50%    213.000000  1133.000000   675.000000   472.000000   13.476300   \n",
       "75%    319.000000  1851.000000  1158.000000   662.000000   16.027700   \n",
       "max    425.000000  2947.000000  2057.000000  1154.000000   21.035100   \n",
       "\n",
       "            R_max      R_diff       R_avg       R_std      R_skew  ...  \\\n",
       "count  425.000000  425.000000  425.000000  425.000000  425.000000  ...   \n",
       "mean    18.830056    5.688284   15.452304    1.488730    0.340574  ...   \n",
       "std      6.144755    3.444664    4.621321    0.899127    0.438593  ...   \n",
       "min      2.833600    0.203400    2.664400    0.079100   -1.048700  ...   \n",
       "25%     14.639300    3.508800   12.243700    0.892500    0.074800  ...   \n",
       "50%     19.221600    4.785500   16.005000    1.143600    0.331300  ...   \n",
       "75%     23.053000    7.041700   19.209000    1.870000    0.643400  ...   \n",
       "max     42.930100   28.300100   24.438900    6.212700    2.055200  ...   \n",
       "\n",
       "              T10         T11          T12         T13         T14  \\\n",
       "count  425.000000  425.000000   425.000000  425.000000  425.000000   \n",
       "mean    24.522353   46.383529   718.207059    2.167059    0.004706   \n",
       "std     28.771876   74.139728   543.094939    8.564012    0.097014   \n",
       "min      0.000000    0.000000     0.000000    0.000000    0.000000   \n",
       "25%      0.000000    0.000000   245.000000    0.000000    0.000000   \n",
       "50%     24.000000    2.000000   616.000000    0.000000    0.000000   \n",
       "75%     30.000000   72.000000  1144.000000    0.000000    0.000000   \n",
       "max    216.000000  384.000000  2003.000000   87.000000    2.000000   \n",
       "\n",
       "       Formation_E          EF          IP          EA          EG  \n",
       "count   425.000000  425.000000  425.000000  425.000000  425.000000  \n",
       "mean      0.149397   -3.849168    4.324642    3.376054    0.948588  \n",
       "std       0.127103    0.115435    0.188174    0.258104    0.382663  \n",
       "min       0.028319   -4.094000    4.010600    2.129600    0.535500  \n",
       "25%       0.067486   -3.950900    4.213000    3.251600    0.694000  \n",
       "50%       0.107963   -3.848800    4.306000    3.430600    0.828000  \n",
       "75%       0.181273   -3.763400    4.386200    3.569200    1.059100  \n",
       "max       1.074750   -3.403600    5.811900    3.748100    3.013800  \n",
       "\n",
       "[8 rows x 69 columns]"
      ]
     },
     "execution_count": 10,
     "metadata": {},
     "output_type": "execute_result"
    }
   ],
   "source": [
    "df.describe()"
   ]
  },
  {
   "cell_type": "markdown",
   "metadata": {},
   "source": [
    "Dropping columns with more than 15% zeros."
   ]
  },
  {
   "cell_type": "code",
   "execution_count": 11,
   "metadata": {},
   "outputs": [
    {
     "name": "stderr",
     "output_type": "stream",
     "text": [
      "C:\\ProgramData\\Anaconda3\\lib\\site-packages\\pandas\\core\\frame.py:4102: SettingWithCopyWarning: \n",
      "A value is trying to be set on a copy of a slice from a DataFrame\n",
      "\n",
      "See the caveats in the documentation: http://pandas.pydata.org/pandas-docs/stable/user_guide/indexing.html#returning-a-view-versus-a-copy\n",
      "  errors=errors,\n"
     ]
    }
   ],
   "source": [
    "drop_cols = df.columns[(df == 0).sum() > 0.15*df.shape[0]]\n",
    "df.drop(columns=drop_cols, inplace = True) "
   ]
  },
  {
   "cell_type": "code",
   "execution_count": 12,
   "metadata": {},
   "outputs": [
    {
     "name": "stdout",
     "output_type": "stream",
     "text": [
      "<class 'pandas.core.frame.DataFrame'>\n",
      "RangeIndex: 425 entries, 0 to 424\n",
      "Data columns (total 40 columns):\n",
      "ID             425 non-null int64\n",
      "Shape          425 non-null object\n",
      "N_Atoms        425 non-null int64\n",
      "N_Bulk         425 non-null int64\n",
      "N_Surface      425 non-null int64\n",
      "R_min          425 non-null float64\n",
      "R_max          425 non-null float64\n",
      "R_diff         425 non-null float64\n",
      "R_avg          425 non-null float64\n",
      "R_std          425 non-null float64\n",
      "R_skew         425 non-null float64\n",
      "R_kurt         425 non-null float64\n",
      "Anisotropy     425 non-null float64\n",
      "S_110          425 non-null int64\n",
      "N_facets       425 non-null int64\n",
      "Curve_0-10     425 non-null int64\n",
      "Curve_21-30    425 non-null int64\n",
      "Avg_total      425 non-null float64\n",
      "Avg_bulk       425 non-null float64\n",
      "Avg_surf       425 non-null float64\n",
      "SCN6           425 non-null int64\n",
      "SCN7           425 non-null int64\n",
      "SCN9           425 non-null int64\n",
      "Avg            425 non-null float64\n",
      "Std_Dev        425 non-null float64\n",
      "Max            425 non-null float64\n",
      "Min            425 non-null float64\n",
      "N_Bonds        425 non-null int64\n",
      "FCC            425 non-null int64\n",
      "Avg_total.1    425 non-null float64\n",
      "Avg_bulk.1     425 non-null float64\n",
      "Avg_surf.1     425 non-null float64\n",
      "T7             425 non-null int64\n",
      "T9             425 non-null int64\n",
      "T12            425 non-null int64\n",
      "Formation_E    425 non-null float64\n",
      "EF             425 non-null float64\n",
      "IP             425 non-null float64\n",
      "EA             425 non-null float64\n",
      "EG             425 non-null float64\n",
      "dtypes: float64(23), int64(16), object(1)\n",
      "memory usage: 132.9+ KB\n"
     ]
    }
   ],
   "source": [
    "df.info()"
   ]
  },
  {
   "cell_type": "markdown",
   "metadata": {},
   "source": [
    "ID, Std_Dev, Max and Min can be dropped out. \n",
    "R_avg, R_min, R_max, R_diff and R_std can be dropped out as well because the radius of the nanoparticle depends on the number of atoms and on the coordination number."
   ]
  },
  {
   "cell_type": "code",
   "execution_count": 13,
   "metadata": {},
   "outputs": [],
   "source": [
    "df.drop(columns = ['ID','Std_Dev', 'Max', 'Min','R_avg', 'R_max', 'R_min', 'R_diff', 'R_std'], inplace = True) "
   ]
  },
  {
   "cell_type": "markdown",
   "metadata": {},
   "source": [
    "The correlation between the features and the target variable \"Formation_E'"
   ]
  },
  {
   "cell_type": "code",
   "execution_count": 14,
   "metadata": {},
   "outputs": [
    {
     "name": "stdout",
     "output_type": "stream",
     "text": [
      "Formation_E    1.000000\n",
      "EG             0.977171\n",
      "IP             0.743226\n",
      "EF             0.452631\n",
      "Avg_bulk       0.025187\n",
      "Anisotropy     0.009232\n",
      "R_kurt        -0.038901\n",
      "R_skew        -0.064091\n",
      "N_facets      -0.160076\n",
      "SCN6          -0.220386\n",
      "Curve_21-30   -0.347391\n",
      "S_110         -0.362697\n",
      "SCN7          -0.426519\n",
      "T7            -0.430773\n",
      "Curve_0-10    -0.541707\n",
      "T9            -0.557247\n",
      "SCN9          -0.558606\n",
      "Avg_bulk.1    -0.576682\n",
      "FCC           -0.696434\n",
      "T12           -0.719701\n",
      "Avg_surf.1    -0.725294\n",
      "N_Bulk        -0.728872\n",
      "N_Bonds       -0.749500\n",
      "N_Atoms       -0.756078\n",
      "N_Surface     -0.799982\n",
      "Avg_total.1   -0.855229\n",
      "Avg_surf      -0.904928\n",
      "EA            -0.906888\n",
      "Avg           -0.982203\n",
      "Avg_total     -0.984144\n",
      "Name: Formation_E, dtype: float64\n"
     ]
    }
   ],
   "source": [
    "corr_matrix = df.corr()\n",
    "print(corr_matrix[\"Formation_E\"].sort_values(ascending=False))"
   ]
  },
  {
   "cell_type": "markdown",
   "metadata": {},
   "source": [
    "The 4 most relevant features for the analysis (not including EA, EF, EG, IP because they are target variables as well) are: number of atoms, average Ag coordination number, average bond length and average surface Ag coordination number (N_Atoms, Avg_total, Avg and Avg_surf, respectively). "
   ]
  },
  {
   "cell_type": "code",
   "execution_count": 15,
   "metadata": {},
   "outputs": [],
   "source": [
    "feat_cols=['Avg_total', 'Avg', 'Avg_surf', 'N_Atoms']"
   ]
  },
  {
   "cell_type": "markdown",
   "metadata": {},
   "source": [
    "Plots of Formation energy as a function of the relevant features, from the original dataset (X,y)."
   ]
  },
  {
   "cell_type": "code",
   "execution_count": 16,
   "metadata": {},
   "outputs": [
    {
     "data": {
      "image/png": "[encoded data removed]",
      "text/plain": [
       "<Figure size 1080x576 with 4 Axes>"
      ]
     },
     "metadata": {
      "needs_background": "light"
     },
     "output_type": "display_data"
    }
   ],
   "source": [
    "plt.figure(figsize=(15, 8))\n",
    "\n",
    "plt.subplot(221)\n",
    "plt.plot(df['Avg_total'], df['Formation_E'], '.', c='g')\n",
    "plt.xlabel('Average Ag coordination number')\n",
    "plt.ylabel('Formation energy (eV)')\n",
    "plt.title('Plots of Formation energy vs relevant features. Original dataset')\n",
    "\n",
    "plt.subplot(222)\n",
    "plt.plot(df['Avg'], df['Formation_E'], '.', c='m')\n",
    "plt.xlabel('Average bond length (A)')\n",
    "plt.ylabel('Formation energy (eV)')\n",
    "\n",
    "plt.subplot(223)\n",
    "plt.plot(df['Avg_surf'], df['Formation_E'], '.')\n",
    "plt.xlabel('Average surface Ag coordination number')\n",
    "plt.ylabel('Formation energy (eV)')\n",
    "\n",
    "plt.subplot(224)\n",
    "plt.plot(df['N_Atoms'], df['Formation_E'], '.', c='b')\n",
    "plt.xlabel('Number of atoms')\n",
    "plt.ylabel('Energy of the Fermi level')\n",
    "\n",
    "\n",
    "plt.show()"
   ]
  },
  {
   "cell_type": "markdown",
   "metadata": {},
   "source": [
    "Features and targets from the original dataset:"
   ]
  },
  {
   "cell_type": "code",
   "execution_count": 17,
   "metadata": {},
   "outputs": [],
   "source": [
    "X=df[feat_cols]\n",
    "y=df['Formation_E']"
   ]
  },
  {
   "cell_type": "markdown",
   "metadata": {},
   "source": [
    "Random split of the dataset:"
   ]
  },
  {
   "cell_type": "code",
   "execution_count": 18,
   "metadata": {},
   "outputs": [],
   "source": [
    "from sklearn.model_selection import train_test_split\n",
    "X_1, X_val, y_1, y_val = train_test_split(X,y, test_size=0.65, random_state=0)"
   ]
  },
  {
   "cell_type": "code",
   "execution_count": 19,
   "metadata": {},
   "outputs": [
    {
     "data": {
      "text/plain": [
       "((148, 4), (148,), (277, 4), (277,))"
      ]
     },
     "execution_count": 19,
     "metadata": {},
     "output_type": "execute_result"
    }
   ],
   "source": [
    "X_1.shape, y_1.shape, X_val.shape, y_val.shape"
   ]
  },
  {
   "cell_type": "code",
   "execution_count": 20,
   "metadata": {},
   "outputs": [
    {
     "data": {
      "image/png": "[encoded data removed]",
      "text/plain": [
       "<Figure size 1080x576 with 4 Axes>"
      ]
     },
     "metadata": {
      "needs_background": "light"
     },
     "output_type": "display_data"
    }
   ],
   "source": [
    "fig=plt.figure(figsize=(15, 8))\n",
    "\n",
    "plt.subplot(221)\n",
    "plt.plot(X_1['Avg_total'], y_1, '.', c='g')\n",
    "plt.xlabel('Average Ag coordination number')\n",
    "plt.ylabel('Formation energy (eV)')\n",
    "plt.title('Plots of Formation energy vs relevant features. Training dataset')\n",
    "\n",
    "plt.subplot(222)\n",
    "plt.plot(X_1['Avg'], y_1, '.', c='m')\n",
    "plt.xlabel('Average bond length (A)')\n",
    "plt.ylabel('Formation energy (eV)')\n",
    "\n",
    "plt.subplot(223)\n",
    "plt.plot(X_1['Avg_surf'], y_1, '.')\n",
    "plt.xlabel('Average surface Ag coordination number')\n",
    "plt.ylabel('Formation energy (eV)')\n",
    "\n",
    "plt.subplot(224)\n",
    "plt.plot(X_1['N_Atoms'], y_1, '.', c='b')\n",
    "plt.xlabel('Number of atoms')\n",
    "plt.ylabel('Energy of the Fermi level')\n",
    "plt.show()"
   ]
  },
  {
   "cell_type": "markdown",
   "metadata": {},
   "source": [
    "The distribution of points is uniform, which is good for training the model with this dataset."
   ]
  },
  {
   "cell_type": "markdown",
   "metadata": {},
   "source": [
    "**Cross-Validation and model selection**"
   ]
  },
  {
   "cell_type": "code",
   "execution_count": 21,
   "metadata": {},
   "outputs": [],
   "source": [
    "from sklearn.ensemble import RandomForestRegressor\n",
    "from sklearn.neighbors import KNeighborsRegressor\n",
    "from sklearn.svm import SVR\n",
    "from sklearn.model_selection import cross_val_score\n",
    "\n",
    "def cv_scores(model, x,y):\n",
    "    scores=cross_val_score(model, x, y, cv=5)\n",
    "    return \"Accuracy: %0.2f (+/- %0.2f)\" % (scores.mean(), scores.std() * 2)\n"
   ]
  },
  {
   "cell_type": "markdown",
   "metadata": {},
   "source": [
    "Given the number of samples, n_estimators was chosen to be 10 in order to avoid overfitting. Other numbers were considered but showed detrimental effects to the fit."
   ]
  },
  {
   "cell_type": "code",
   "execution_count": 22,
   "metadata": {},
   "outputs": [
    {
     "name": "stdout",
     "output_type": "stream",
     "text": [
      "Accuracy: 0.91 (+/- 0.20)\n",
      "Accuracy: 0.88 (+/- 0.21)\n"
     ]
    }
   ],
   "source": [
    "print(cv_scores(RandomForestRegressor(n_estimators=10), X_1, y_1))\n",
    "print(cv_scores(KNeighborsRegressor(n_neighbors=5), X_1, y_1))"
   ]
  },
  {
   "cell_type": "markdown",
   "metadata": {},
   "source": [
    "The model of choice is Random Forest Regressor. It will be trained with the whole training dataset X_1 and y_1, and then tested agains the unseen dataset X_val and y_val."
   ]
  },
  {
   "cell_type": "code",
   "execution_count": 23,
   "metadata": {},
   "outputs": [
    {
     "data": {
      "text/plain": [
       "RandomForestRegressor(bootstrap=True, criterion='mse', max_depth=None,\n",
       "                      max_features='auto', max_leaf_nodes=None,\n",
       "                      min_impurity_decrease=0.0, min_impurity_split=None,\n",
       "                      min_samples_leaf=1, min_samples_split=2,\n",
       "                      min_weight_fraction_leaf=0.0, n_estimators=10,\n",
       "                      n_jobs=None, oob_score=False, random_state=None,\n",
       "                      verbose=0, warm_start=False)"
      ]
     },
     "execution_count": 23,
     "metadata": {},
     "output_type": "execute_result"
    }
   ],
   "source": [
    "# Training the model\n",
    "\n",
    "model_RF=RandomForestRegressor(n_estimators=10)\n",
    "model_RF.fit(X_1, y_1)"
   ]
  },
  {
   "cell_type": "code",
   "execution_count": 24,
   "metadata": {},
   "outputs": [
    {
     "data": {
      "text/plain": [
       "0.9878483687855282"
      ]
     },
     "execution_count": 24,
     "metadata": {},
     "output_type": "execute_result"
    }
   ],
   "source": [
    "model_RF.score(X_1, y_1)"
   ]
  },
  {
   "cell_type": "code",
   "execution_count": 25,
   "metadata": {},
   "outputs": [
    {
     "name": "stdout",
     "output_type": "stream",
     "text": [
      "0.010637554616798174\n"
     ]
    }
   ],
   "source": [
    "from sklearn.metrics import mean_absolute_error\n",
    "y_predict=model_RF.predict(X_val)\n",
    "mae = mean_absolute_error(y_predict, y_val)\n",
    "print(mae)"
   ]
  },
  {
   "cell_type": "code",
   "execution_count": 26,
   "metadata": {},
   "outputs": [
    {
     "data": {
      "image/png": "[encoded data removed]",
      "text/plain": [
       "<Figure size 1080x720 with 4 Axes>"
      ]
     },
     "metadata": {
      "needs_background": "light"
     },
     "output_type": "display_data"
    }
   ],
   "source": [
    "plt.figure(figsize=(15, 10))\n",
    "\n",
    "plt.subplot(221)\n",
    "plt.plot(X_val['Avg_total'], y_val, '+', c='b', label='True values')\n",
    "plt.plot(X_val['Avg_total'], y_predict,'.', c='r', label='Predicetd values')\n",
    "plt.xlabel('Average Ag coordination number')\n",
    "plt.ylabel('Formation energy (eV)')\n",
    "plt.title('Predicted values vs True values')\n",
    "plt.legend(loc='best')\n",
    "\n",
    "plt.subplot(222)\n",
    "plt.plot(X_val['Avg'], y_val, '+', c='b', label='True values')\n",
    "plt.plot(X_val['Avg'], y_predict, '.', c='r', label='Predicetd values')\n",
    "plt.xlabel('Average bond length (A)')\n",
    "plt.ylabel('Formation energy (eV)')\n",
    "plt.legend(loc='best')\n",
    "\n",
    "plt.subplot(223)\n",
    "plt.plot(X_val['Avg_surf'], y_val, '+', c='b', label='True values')\n",
    "plt.plot(X_val['Avg_surf'], y_predict, '.', c='r', label='Predicetd values')\n",
    "plt.xlabel('Average surface Ag coordination number')\n",
    "plt.ylabel('Formation energy (eV)')\n",
    "plt.legend(loc='best')\n",
    "\n",
    "plt.subplot(224)\n",
    "plt.plot(X_val['N_Atoms'], y_val, '+', c='b', label='True values')\n",
    "plt.plot(X_val['N_Atoms'], y_predict,'.', c='r', label='Predicetd values')\n",
    "plt.xlabel('Number of atoms')\n",
    "plt.ylabel('Energy of the Fermi level')\n",
    "plt.legend(loc='best')\n",
    "\n",
    "plt.show()"
   ]
  }
 ],
 "metadata": {
  "kernelspec": {
   "display_name": "Python 3",
   "language": "python",
   "name": "python3"
  },
  "language_info": {
   "codemirror_mode": {
    "name": "ipython",
    "version": 3
   },
   "file_extension": ".py",
   "mimetype": "text/x-python",
   "name": "python",
   "nbconvert_exporter": "python",
   "pygments_lexer": "ipython3",
   "version": "3.7.4"
  }
 },
 "nbformat": 4,
 "nbformat_minor": 1
}
